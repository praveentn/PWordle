{
 "cells": [
  {
   "cell_type": "markdown",
   "metadata": {},
   "source": [
    "# PWordle"
   ]
  },
  {
   "cell_type": "markdown",
   "metadata": {},
   "source": [
    "### Import all functions and libraries from `wordle.py`"
   ]
  },
  {
   "cell_type": "code",
   "execution_count": 2,
   "metadata": {},
   "outputs": [
    {
     "name": "stderr",
     "output_type": "stream",
     "text": [
      "c:\\python38\\envs\\dream\\lib\\site-packages\\numpy\\_distributor_init.py:30: UserWarning: loaded more than 1 DLL from .libs:\n",
      "c:\\python38\\envs\\dream\\lib\\site-packages\\numpy\\.libs\\libopenblas.EL2C6PLE4ZYW3ECEVIV3OXXGRN2NRFM2.gfortran-win_amd64.dll\n",
      "c:\\python38\\envs\\dream\\lib\\site-packages\\numpy\\.libs\\libopenblas.JPIJNSWNNAN3CE6LLI5FWSPHUT2VXMTH.gfortran-win_amd64.dll\n",
      "  warnings.warn(\"loaded more than 1 DLL from .libs:\"\n"
     ]
    }
   ],
   "source": [
    "from wordle import *"
   ]
  },
  {
   "cell_type": "markdown",
   "metadata": {},
   "source": [
    "### Run `play_wordle()` to start a game\n",
    "- Code will randomly select a 5-letter word from the English Dictionary\n",
    "- You have six tries to guess correctly\n",
    "- If you guess the position of a letter in the word it will turn `GREEN`\n",
    "- If you guess a letter, but it is in the wron position it turns `ORANGE`\n",
    "- If the letter does not exist, it will become `lower case black ink`\n",
    "\n",
    "#### GOOD LUCK, NERDS!"
   ]
  },
  {
   "cell_type": "code",
   "execution_count": 3,
   "metadata": {},
   "outputs": [],
   "source": [
    "# set the word length here!\n",
    "word_length = 5"
   ]
  },
  {
   "cell_type": "code",
   "execution_count": 4,
   "metadata": {},
   "outputs": [
    {
     "name": "stdout",
     "output_type": "stream",
     "text": [
      "Word is: shaky\n",
      "Enter a 5-letter Word :hasty\n"
     ]
    },
    {
     "data": {
      "text/html": [
       "<style type=\"text/css\">\n",
       "#T_4a27a_row0_col0, #T_4a27a_row0_col1, #T_4a27a_row0_col2 {\n",
       "  color: orange;\n",
       "}\n",
       "#T_4a27a_row0_col3 {\n",
       "  color: black;\n",
       "}\n",
       "#T_4a27a_row0_col4 {\n",
       "  color: green;\n",
       "}\n",
       "</style>\n",
       "<table id=\"T_4a27a\">\n",
       "  <thead>\n",
       "    <tr>\n",
       "      <th class=\"blank level0\" >&nbsp;</th>\n",
       "      <th id=\"T_4a27a_level0_col0\" class=\"col_heading level0 col0\" >L1</th>\n",
       "      <th id=\"T_4a27a_level0_col1\" class=\"col_heading level0 col1\" >L2</th>\n",
       "      <th id=\"T_4a27a_level0_col2\" class=\"col_heading level0 col2\" >L3</th>\n",
       "      <th id=\"T_4a27a_level0_col3\" class=\"col_heading level0 col3\" >L4</th>\n",
       "      <th id=\"T_4a27a_level0_col4\" class=\"col_heading level0 col4\" >L5</th>\n",
       "    </tr>\n",
       "  </thead>\n",
       "  <tbody>\n",
       "    <tr>\n",
       "      <th id=\"T_4a27a_level0_row0\" class=\"row_heading level0 row0\" >TRY_1</th>\n",
       "      <td id=\"T_4a27a_row0_col0\" class=\"data row0 col0\" >H </td>\n",
       "      <td id=\"T_4a27a_row0_col1\" class=\"data row0 col1\" >A </td>\n",
       "      <td id=\"T_4a27a_row0_col2\" class=\"data row0 col2\" >S </td>\n",
       "      <td id=\"T_4a27a_row0_col3\" class=\"data row0 col3\" >t</td>\n",
       "      <td id=\"T_4a27a_row0_col4\" class=\"data row0 col4\" >Y</td>\n",
       "    </tr>\n",
       "  </tbody>\n",
       "</table>\n"
      ],
      "text/plain": [
       "<pandas.io.formats.style.Styler at 0x201217c2280>"
      ]
     },
     "metadata": {},
     "output_type": "display_data"
    },
    {
     "name": "stdout",
     "output_type": "stream",
     "text": [
      "Enter a 5-letter Word :shaky\n"
     ]
    },
    {
     "data": {
      "text/html": [
       "<style type=\"text/css\">\n",
       "#T_7fc52_row0_col0, #T_7fc52_row0_col1, #T_7fc52_row0_col2 {\n",
       "  color: orange;\n",
       "}\n",
       "#T_7fc52_row0_col3 {\n",
       "  color: black;\n",
       "}\n",
       "#T_7fc52_row0_col4, #T_7fc52_row1_col0, #T_7fc52_row1_col1, #T_7fc52_row1_col2, #T_7fc52_row1_col3, #T_7fc52_row1_col4 {\n",
       "  color: green;\n",
       "}\n",
       "</style>\n",
       "<table id=\"T_7fc52\">\n",
       "  <thead>\n",
       "    <tr>\n",
       "      <th class=\"blank level0\" >&nbsp;</th>\n",
       "      <th id=\"T_7fc52_level0_col0\" class=\"col_heading level0 col0\" >L1</th>\n",
       "      <th id=\"T_7fc52_level0_col1\" class=\"col_heading level0 col1\" >L2</th>\n",
       "      <th id=\"T_7fc52_level0_col2\" class=\"col_heading level0 col2\" >L3</th>\n",
       "      <th id=\"T_7fc52_level0_col3\" class=\"col_heading level0 col3\" >L4</th>\n",
       "      <th id=\"T_7fc52_level0_col4\" class=\"col_heading level0 col4\" >L5</th>\n",
       "    </tr>\n",
       "  </thead>\n",
       "  <tbody>\n",
       "    <tr>\n",
       "      <th id=\"T_7fc52_level0_row0\" class=\"row_heading level0 row0\" >TRY_1</th>\n",
       "      <td id=\"T_7fc52_row0_col0\" class=\"data row0 col0\" >H </td>\n",
       "      <td id=\"T_7fc52_row0_col1\" class=\"data row0 col1\" >A </td>\n",
       "      <td id=\"T_7fc52_row0_col2\" class=\"data row0 col2\" >S </td>\n",
       "      <td id=\"T_7fc52_row0_col3\" class=\"data row0 col3\" >t</td>\n",
       "      <td id=\"T_7fc52_row0_col4\" class=\"data row0 col4\" >Y</td>\n",
       "    </tr>\n",
       "    <tr>\n",
       "      <th id=\"T_7fc52_level0_row1\" class=\"row_heading level0 row1\" >TRY_2</th>\n",
       "      <td id=\"T_7fc52_row1_col0\" class=\"data row1 col0\" >S</td>\n",
       "      <td id=\"T_7fc52_row1_col1\" class=\"data row1 col1\" >H</td>\n",
       "      <td id=\"T_7fc52_row1_col2\" class=\"data row1 col2\" >A</td>\n",
       "      <td id=\"T_7fc52_row1_col3\" class=\"data row1 col3\" >K</td>\n",
       "      <td id=\"T_7fc52_row1_col4\" class=\"data row1 col4\" >Y</td>\n",
       "    </tr>\n",
       "  </tbody>\n",
       "</table>\n"
      ],
      "text/plain": [
       "<pandas.io.formats.style.Styler at 0x20140a60f10>"
      ]
     },
     "metadata": {},
     "output_type": "display_data"
    },
    {
     "name": "stdout",
     "output_type": "stream",
     "text": [
      "##############################################################\n",
      "       HURRAY THE WORD WAS: SHAKY \n",
      "##############################################################\n",
      "YOU HAVE FOUND YOUR MATCH!!! DON'T FORGET TO SAY HI TO HIM!!\n",
      "##############################################################\n",
      "\n",
      "WANNA PLAY AGAIN?\n"
     ]
    }
   ],
   "source": [
    "play_wordle(word_length)"
   ]
  },
  {
   "cell_type": "code",
   "execution_count": null,
   "metadata": {},
   "outputs": [],
   "source": []
  }
 ],
 "metadata": {
  "kernelspec": {
   "display_name": "Python 3",
   "language": "python",
   "name": "python3"
  },
  "language_info": {
   "codemirror_mode": {
    "name": "ipython",
    "version": 3
   },
   "file_extension": ".py",
   "mimetype": "text/x-python",
   "name": "python",
   "nbconvert_exporter": "python",
   "pygments_lexer": "ipython3",
   "version": "3.8.6"
  }
 },
 "nbformat": 4,
 "nbformat_minor": 4
}
